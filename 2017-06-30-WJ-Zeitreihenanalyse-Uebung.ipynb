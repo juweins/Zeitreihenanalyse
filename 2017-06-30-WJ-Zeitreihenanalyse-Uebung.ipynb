{
 "cells": [
  {
   "cell_type": "markdown",
   "metadata": {},
   "source": [
    "# Übungen zur Zeitreihenanalyse mit R"
   ]
  },
  {
   "cell_type": "markdown",
   "metadata": {},
   "source": [
    "### Aufgabe 1: Theorie\n",
    "\n",
    "**2.1. Was müssen Sie bei der Analyse eines multiplikativen Modells beachten?**<br>\n",
    "<br>\n",
    "**2.2. Gegeben seien mehrere ARIMA-Modelle unterschiedlicher Ordnung. Evaluieren Sie die nachfolgenden Modelle anhand der Ihnen bekannten Kriterien und geben Sie das für Sie \"beste\" Modell an:**\n",
    "\n",
    "| Nr | ARIMA-Modell            | sigma^2| log.likelihood | aic\n",
    "| :------------- |:-------------:|:-------------|:-------------:|-------------:|\n",
    "|1|(0,0,1)|0.08942|-30.29|66.58|\n",
    "|2|(1,1,1)|0.06069|-3.02|12.04|\n",
    "|3|(2,1,1)|0.06069|-3.01|14.03|\n",
    "|4|(12,1,3)|0.01638|81.93|-131.87|\n",
    "|5|(12,1,0)|0.0175|78.36|-130.73|\n",
    "|6|(0,1,12)|0.03235|36.5|-47.01|\n",
    "|7|(1,1,12)|0.03042|38.7|-49.39|\n",
    "|8|(12,1,1)|0.01698|80.39|-132.79|"
   ]
  },
  {
   "cell_type": "markdown",
   "metadata": {},
   "source": [
    "### Aufgabe 2: Flugpassagiere\n",
    "\n",
    "Gegeben sei eine Zeitreihe über die Entwicklung von Fluggastzahlen im Zeitraum von 1949-1960. Führen Sie eine erste Analyse dieses Datensatzes durch unter Berücksichtigung der konkreten Anweisungen weiter unten."
   ]
  },
  {
   "cell_type": "code",
   "execution_count": null,
   "metadata": {
    "collapsed": true
   },
   "outputs": [],
   "source": [
    "?AirPassengers"
   ]
  },
  {
   "cell_type": "markdown",
   "metadata": {},
   "source": [
    "**2.1: Geben Sie einen ersten Plot der Zeitreihe aus und beantworten Sie durch genaues hinsehen die folgende Frage:**\n",
    "\n",
    "Nennen Sie drei charakteristische Merkmale dieser Zeitreihe. Erklären Sie Ihre Beobachtungen mit dazu passenden, realen Begebenheiten.<br>\n",
    "1. <br>\n",
    "2. <br>\n",
    "3. <br>"
   ]
  },
  {
   "cell_type": "code",
   "execution_count": null,
   "metadata": {},
   "outputs": [],
   "source": []
  },
  {
   "cell_type": "markdown",
   "metadata": {},
   "source": [
    "**2.2. Die Zeitreihe 'AirPassengers' unterscheidet sich in einem Merkmal wesentlich von der Analyse im Vortrag. Worin? **<br>\n"
   ]
  },
  {
   "cell_type": "markdown",
   "metadata": {},
   "source": [
    "**2.3. Wie können Sie diesen Unterschied (theoretisch) beheben?**<br>\n"
   ]
  },
  {
   "cell_type": "markdown",
   "metadata": {},
   "source": [
    "**2.4.1. Ermitteln Sie eine geeignete (sinnvolle), *glatte Komponente*. <br>**\n",
    "    *(Beachten Sie hierbei ggf. zusätzliche Parameter der Funktion!)* <br>\n",
    "<br>**2.4.2. Analysieren Sie im Anschluss mit der Funktion summary() Ihre Glättung. Was bedeutet der Wert bei \"NA's\"?<br>\n",
    "2.4.3. Wodurch wird dieser verursacht?**"
   ]
  },
  {
   "cell_type": "code",
   "execution_count": null,
   "metadata": {
    "collapsed": true
   },
   "outputs": [],
   "source": []
  },
  {
   "cell_type": "code",
   "execution_count": null,
   "metadata": {},
   "outputs": [],
   "source": []
  },
  {
   "cell_type": "code",
   "execution_count": null,
   "metadata": {},
   "outputs": [],
   "source": []
  },
  {
   "cell_type": "markdown",
   "metadata": {},
   "source": [
    "**2.5. Führen Sie nun eine Komponentenzerlegung durch. Übergeben Sie hierbei das in 2.2. gefragte Merkmal als Parameter.** <br>\n",
    "*(Tipp: ?decompose())"
   ]
  },
  {
   "cell_type": "code",
   "execution_count": null,
   "metadata": {},
   "outputs": [],
   "source": []
  }
 ],
 "metadata": {
  "kernelspec": {
   "display_name": "R",
   "language": "R",
   "name": "ir"
  },
  "language_info": {
   "codemirror_mode": "r",
   "file_extension": ".r",
   "mimetype": "text/x-r-source",
   "name": "R",
   "pygments_lexer": "r",
   "version": "3.3.2"
  }
 },
 "nbformat": 4,
 "nbformat_minor": 2
}
